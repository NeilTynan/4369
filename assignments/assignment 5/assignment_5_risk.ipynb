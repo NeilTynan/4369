{
 "cells": [
  {
   "cell_type": "markdown",
   "metadata": {},
   "source": [
    "# Risk\n",
    "\n",
    "The purpose of this assignment to generate some code to mirror a round of the board game \"Risk\".\n",
    "\n",
    "## Import libraries\n",
    "---"
   ]
  },
  {
   "cell_type": "code",
   "execution_count": 18,
   "metadata": {},
   "outputs": [],
   "source": [
    "# Data frames.\n",
    "import pandas as pd\n",
    "\n",
    "# Nummerical arrays\n",
    "import numpy as np"
   ]
  },
  {
   "cell_type": "markdown",
   "metadata": {},
   "source": [
    "## Tuples\n",
    "---\n",
    "Named Tuples are being used to store the attack configuration both to imporve the readibility of the results and to reduce the risk of the attackers and defenders dice being mixed up."
   ]
  },
  {
   "cell_type": "code",
   "execution_count": 19,
   "metadata": {},
   "outputs": [],
   "source": [
    "from typing import NamedTuple\n",
    "\n",
    "class Attack(NamedTuple):\n",
    "    n_attackers: int\n",
    "    n_defenders: int"
   ]
  },
  {
   "cell_type": "markdown",
   "metadata": {},
   "source": [
    "## Generating Dice Rolls\n",
    "---"
   ]
  },
  {
   "cell_type": "code",
   "execution_count": 20,
   "metadata": {},
   "outputs": [
    {
     "name": "stdout",
     "output_type": "stream",
     "text": [
      "Attack(n_attackers=1, n_defenders=1)\n",
      "[1]\n",
      "[4]\n",
      "Attack(n_attackers=1, n_defenders=2)\n",
      "[1]\n",
      "[1 1]\n",
      "Attack(n_attackers=2, n_defenders=1)\n",
      "[2 1]\n",
      "[3]\n",
      "Attack(n_attackers=2, n_defenders=2)\n",
      "[2 2]\n",
      "[4 4]\n",
      "Attack(n_attackers=3, n_defenders=1)\n",
      "[5 4 4]\n",
      "[5]\n",
      "Attack(n_attackers=3, n_defenders=2)\n",
      "[5 5 4]\n",
      "[4 4]\n"
     ]
    }
   ],
   "source": [
    "\n",
    "options = [\n",
    "    Attack(x, y) for x in range(1, 4) for y in range(1, 3) # Roll 3 dice for attacker, 2 dice for defender\n",
    "]\n",
    "\n",
    "for option in options:\n",
    "    print(option) # print explanatory text for dice rolls\n",
    "    attack = np.random.randint(1, 7, option.n_attackers) # generate random dice rolls for the attacker's dice\n",
    "    attack.sort() # sort the attackers rolls\n",
    "    attack = np.flip(attack) # flip the attackers rolls so that they are highest to lowest\n",
    "    print(attack) # print the attackers rolls\n",
    "\n",
    "    defence = np.random.randint(1, 7, option.n_defenders) # generate random dice rolls for the defender's dice\n",
    "    defence.sort() # sort the defenders rolls\n",
    "    defence = np.flip(defence) # flip the defenders rolls so that they are highest to lowest\n",
    "    print(defence) # print the defenders rolls"
   ]
  },
  {
   "cell_type": "code",
   "execution_count": 21,
   "metadata": {},
   "outputs": [
    {
     "name": "stdout",
     "output_type": "stream",
     "text": [
      "[ True  True]\n",
      "\n"
     ]
    }
   ],
   "source": [
    "# Measuring the Attackers wins\n",
    "\n",
    "min_length = min(len(attack), len(defence))\n",
    "result = attack[:min_length] > defence[:min_length]\n",
    "print(result)\n",
    "print()"
   ]
  }
 ],
 "metadata": {
  "kernelspec": {
   "display_name": "Python 3",
   "language": "python",
   "name": "python3"
  },
  "language_info": {
   "codemirror_mode": {
    "name": "ipython",
    "version": 3
   },
   "file_extension": ".py",
   "mimetype": "text/x-python",
   "name": "python",
   "nbconvert_exporter": "python",
   "pygments_lexer": "ipython3",
   "version": "3.12.1"
  }
 },
 "nbformat": 4,
 "nbformat_minor": 2
}
