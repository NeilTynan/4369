{
 "cells": [
  {
   "cell_type": "code",
   "execution_count": null,
   "metadata": {},
   "outputs": [
    {
     "name": "stdout",
     "output_type": "stream",
     "text": [
      "Attack(n_attackers=1, n_defenders=1)\n",
      "[5]\n",
      "[2]\n",
      "Attack(n_attackers=1, n_defenders=2)\n",
      "[6]\n",
      "[5 1]\n",
      "Attack(n_attackers=2, n_defenders=1)\n",
      "[3 1]\n",
      "[1]\n",
      "Attack(n_attackers=2, n_defenders=2)\n",
      "[4 2]\n",
      "[4 2]\n",
      "Attack(n_attackers=3, n_defenders=1)\n",
      "[5 5 4]\n",
      "[5]\n",
      "Attack(n_attackers=3, n_defenders=2)\n",
      "[6 6 3]\n",
      "[4 3]\n"
     ]
    }
   ],
   "source": [
    "import matplotlib.pyplot as plt\n",
    "import pandas as pd\n",
    "import numpy as np\n",
    "\n",
    "# Import libraries\n",
    "\n",
    "from typing import NamedTuple ## import tuples to store attack configurations as named tuples to reduce risk of confusion\n",
    "\n",
    "class Attack(NamedTuple):\n",
    "    n_attackers: int\n",
    "    n_defenders: int\n",
    "\n",
    "options = [\n",
    "    Attack(x, y) for x in range(1, 4) for y in range(1, 3) ## Roll 3 dice for attacker, 2 dice for defender\n",
    "]\n",
    "\n",
    "\n",
    "for option in options:\n",
    "    print(option) # print explanator text for dice rolls\n",
    "    attack = np.random.randint(1, 7, option.n_attackers) ## generate random dice rolls for the attacker's dice\n",
    "    attack.sort() ## sort the attackers rolls\n",
    "    attack = np.flip(attack) ## flip the attackers rolls so that they are highest to lowest\n",
    "    print(attack) ## print the attackers rolls\n",
    "\n",
    "    defence = np.random.randint(1, 7, option.n_defenders) ## generate random dice rolls for the defender's dice\n",
    "    defence.sort() ## sort the defenders rolls\n",
    "    defence = np.flip(defence) ## flip the defenders rolls so that they are highest to lowest\n",
    "    print(defence) ## print the defenders rolls"
   ]
  },
  {
   "cell_type": "code",
   "execution_count": null,
   "metadata": {},
   "outputs": [],
   "source": []
  }
 ],
 "metadata": {
  "kernelspec": {
   "display_name": "Python 3",
   "language": "python",
   "name": "python3"
  },
  "language_info": {
   "codemirror_mode": {
    "name": "ipython",
    "version": 3
   },
   "file_extension": ".py",
   "mimetype": "text/x-python",
   "name": "python",
   "nbconvert_exporter": "python",
   "pygments_lexer": "ipython3",
   "version": "3.12.1"
  }
 },
 "nbformat": 4,
 "nbformat_minor": 2
}
